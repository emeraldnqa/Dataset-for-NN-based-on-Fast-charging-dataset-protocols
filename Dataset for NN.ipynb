{
 "cells": [
  {
   "cell_type": "code",
   "execution_count": 3,
   "id": "388f6a8f-4f80-4e8c-bae5-08d5842aab5d",
   "metadata": {},
   "outputs": [
    {
     "name": "stdout",
     "output_type": "stream",
     "text": [
      "Note: you may need to restart the kernel to use updated packages.\n"
     ]
    }
   ],
   "source": [
    "%pip install pybamm -q    # install PyBaMM if it is not installed\n",
    "\n",
    "import pybamm\n",
    "import pandas as pd\n",
    "import os\n",
    "import random"
   ]
  },
  {
   "cell_type": "code",
   "execution_count": 16,
   "id": "527a5aa3-c9ef-4311-a7b3-3ba6f782ee4e",
   "metadata": {},
   "outputs": [
    {
     "ename": "ZeroDivisionError",
     "evalue": "float division by zero",
     "output_type": "error",
     "traceback": [
      "\u001b[0;31m---------------------------------------------------------------------------\u001b[0m",
      "\u001b[0;31mZeroDivisionError\u001b[0m                         Traceback (most recent call last)",
      "\u001b[0;32m/var/folders/fb/5nf2l6vx4tj8839ndlppjshw0000gn/T/ipykernel_7213/1652056089.py\u001b[0m in \u001b[0;36m<module>\u001b[0;34m\u001b[0m\n\u001b[1;32m      8\u001b[0m             \u001b[0mcc3\u001b[0m \u001b[0;34m=\u001b[0m \u001b[0mcc3\u001b[0m\u001b[0;34m/\u001b[0m\u001b[0;36m10\u001b[0m\u001b[0;34m\u001b[0m\u001b[0;34m\u001b[0m\u001b[0m\n\u001b[1;32m      9\u001b[0m             \u001b[0;31m#Calculating C4 values:\u001b[0m\u001b[0;34m\u001b[0m\u001b[0;34m\u001b[0m\u001b[0m\n\u001b[0;32m---> 10\u001b[0;31m             \u001b[0mcc4\u001b[0m \u001b[0;34m=\u001b[0m \u001b[0;36m0.2\u001b[0m\u001b[0;34m/\u001b[0m\u001b[0;34m(\u001b[0m\u001b[0;34m(\u001b[0m\u001b[0;36m10\u001b[0m\u001b[0;34m/\u001b[0m\u001b[0;36m60\u001b[0m\u001b[0;34m)\u001b[0m\u001b[0;34m-\u001b[0m\u001b[0;34m(\u001b[0m\u001b[0;34m(\u001b[0m\u001b[0;36m0.2\u001b[0m\u001b[0;34m/\u001b[0m\u001b[0mcc1\u001b[0m\u001b[0;34m)\u001b[0m\u001b[0;34m+\u001b[0m\u001b[0;34m(\u001b[0m\u001b[0;36m0.2\u001b[0m\u001b[0;34m/\u001b[0m\u001b[0mcc2\u001b[0m\u001b[0;34m)\u001b[0m\u001b[0;34m+\u001b[0m\u001b[0;34m(\u001b[0m\u001b[0;36m0.2\u001b[0m\u001b[0;34m/\u001b[0m\u001b[0mcc3\u001b[0m\u001b[0;34m)\u001b[0m\u001b[0;34m)\u001b[0m\u001b[0;34m)\u001b[0m\u001b[0;34m\u001b[0m\u001b[0;34m\u001b[0m\u001b[0m\n\u001b[0m\u001b[1;32m     11\u001b[0m             \u001b[0;31m#CC4 should not exceed 4.8C\u001b[0m\u001b[0;34m\u001b[0m\u001b[0;34m\u001b[0m\u001b[0m\n\u001b[1;32m     12\u001b[0m             \u001b[0;32mif\u001b[0m \u001b[0mcc4\u001b[0m \u001b[0;34m<\u001b[0m \u001b[0;36m4.8\u001b[0m\u001b[0;34m:\u001b[0m\u001b[0;34m\u001b[0m\u001b[0;34m\u001b[0m\u001b[0m\n",
      "\u001b[0;31mZeroDivisionError\u001b[0m: float division by zero"
     ]
    }
   ],
   "source": [
    "model_spm = pybamm.lithium_ion.SPM()\n",
    "CClist = []\n",
    "for cc1 in range(36,81):\n",
    "    for cc2 in range(36,71):\n",
    "        for cc3 in range(36,57):\n",
    "            cc1 = cc1/10\n",
    "            cc2 = cc2/10\n",
    "            cc3 = cc3/10\n",
    "            \n",
    "            #Calculating C4 values:\n",
    "            cc4 = 0.2/((10/60)-((0.2/cc1)+(0.2/cc2)+(0.2/cc3)))\n",
    "            #CC4 should not exceed 4.8C\n",
    "            if cc4 < 4.8:\n",
    "                continue\n",
    "            print(\"CC1:\" + str(cc1),\"CC2:\"+ str(cc2),\"CC3:\"+ str(cc3),\"CC4:\"+ str(cc4))\n",
    "            \n",
    "            #Calculating the time to run each protocols\n",
    "            t1 = ((10/60)-((0.2/cc2)+(0.2/cc3)+(0.2/cc4)))*60\n",
    "            t2 = ((10/60)-((0.2/cc1)+(0.2/cc3)+(0.2/cc4)))*60\n",
    "            t3 = ((10/60)-((0.2/cc1)+(0.2/cc2)+(0.2/cc4)))*60\n",
    "            t4 = ((10/60)-((0.2/cc1)+(0.2/cc2)+(0.2/cc3)))*60\n",
    "            sub_list = [cc1,cc2,cc3,cc4,t1,t2,t3,t4]\n",
    "            CClist.append(sub_list)\n",
    "            \n",
    "experiment_discharges = []\n",
    "for i in range(10):\n",
    "    data = CClist[i]\n",
    "    protocols = [\n",
    "        \"Charge at \" + str(data[0]) + \"C for \" + str(data[4]) +\" minutes\",\n",
    "        \"Charge at \" + str(data[1]) + \"C for \" + str(data[5]) +\" minutes\",\n",
    "        \"Charge at \" + str(data[2]) + \"C for \" + str(data[6]) +\" minutes\",\n",
    "        \"Charge at \" + str(data[3]) + \"C for \" + str(data[7]) +\" minutes\",\n",
    "        \"rest for 5 seconds\"\n",
    "        \"Charge at 1C until 3.6V\",\n",
    "        \"Hold at 3.6V until 1.1A\",\n",
    "        \"Rest for 5 seconds\",\n",
    "        \"Discharge at 4.0C until 2.0V\",\n",
    "        \"Hold at 2.0V until C/20\",\n",
    "        \"Rest for 5 seconds\"\n",
    "    ]\n",
    "    \n",
    "\n",
    "    experiment_discharges.append(pybamm.Experiment(protocols*100))\n",
    "    sim = pybamm.Simulation(model_spm)\n",
    "    sim.solve([0, 3600])"
   ]
  },
  {
   "cell_type": "code",
   "execution_count": 13,
   "id": "f390b9d2-1a54-4ca5-b992-4c9e34ef3f30",
   "metadata": {},
   "outputs": [],
   "source": [
    "#for v in model_spm.variables.keys():\n",
    " #   print('\\t-',v)"
   ]
  },
  {
   "cell_type": "code",
   "execution_count": 14,
   "id": "e04e4d2b-5ed0-4d37-ba60-e7081188a4b3",
   "metadata": {},
   "outputs": [
    {
     "ename": "NameError",
     "evalue": "name 'sim' is not defined",
     "output_type": "error",
     "traceback": [
      "\u001b[0;31m---------------------------------------------------------------------------\u001b[0m",
      "\u001b[0;31mNameError\u001b[0m                                 Traceback (most recent call last)",
      "\u001b[0;32m/var/folders/fb/5nf2l6vx4tj8839ndlppjshw0000gn/T/ipykernel_7213/213350330.py\u001b[0m in \u001b[0;36m<module>\u001b[0;34m\u001b[0m\n\u001b[1;32m      1\u001b[0m \u001b[0;31m## basic overall plot for voatage and other imformation\u001b[0m\u001b[0;34m\u001b[0m\u001b[0;34m\u001b[0m\u001b[0m\n\u001b[0;32m----> 2\u001b[0;31m \u001b[0mpybamm\u001b[0m\u001b[0;34m.\u001b[0m\u001b[0mdynamic_plot\u001b[0m\u001b[0;34m(\u001b[0m\u001b[0msim\u001b[0m\u001b[0;34m,\u001b[0m \u001b[0mtime_unit\u001b[0m\u001b[0;34m=\u001b[0m\u001b[0;34m\"seconds\"\u001b[0m\u001b[0;34m)\u001b[0m\u001b[0;34m\u001b[0m\u001b[0;34m\u001b[0m\u001b[0m\n\u001b[0m",
      "\u001b[0;31mNameError\u001b[0m: name 'sim' is not defined"
     ]
    }
   ],
   "source": [
    "## basic overall plot for voatage and other imformation\n",
    "pybamm.dynamic_plot(sim, time_unit=\"seconds\")"
   ]
  },
  {
   "cell_type": "code",
   "execution_count": 5,
   "id": "e2237394-ed3c-4ad5-8c0c-85aa6a83cd88",
   "metadata": {},
   "outputs": [
    {
     "ename": "NameError",
     "evalue": "name 'sim' is not defined",
     "output_type": "error",
     "traceback": [
      "\u001b[0;31m---------------------------------------------------------------------------\u001b[0m",
      "\u001b[0;31mNameError\u001b[0m                                 Traceback (most recent call last)",
      "\u001b[0;32m/var/folders/fb/5nf2l6vx4tj8839ndlppjshw0000gn/T/ipykernel_91268/2783944143.py\u001b[0m in \u001b[0;36m<module>\u001b[0;34m\u001b[0m\n\u001b[1;32m      1\u001b[0m \u001b[0;31m## Plot 1\u001b[0m\u001b[0;34m\u001b[0m\u001b[0;34m\u001b[0m\u001b[0m\n\u001b[1;32m      2\u001b[0m \u001b[0moutput_variables\u001b[0m \u001b[0;34m=\u001b[0m \u001b[0;34m[\u001b[0m\u001b[0;34m\"Terminal voltage [V]\"\u001b[0m\u001b[0;34m]\u001b[0m\u001b[0;34m\u001b[0m\u001b[0;34m\u001b[0m\u001b[0m\n\u001b[0;32m----> 3\u001b[0;31m \u001b[0msim\u001b[0m\u001b[0;34m.\u001b[0m\u001b[0mplot\u001b[0m\u001b[0;34m(\u001b[0m\u001b[0moutput_variables\u001b[0m\u001b[0;34m=\u001b[0m\u001b[0moutput_variables\u001b[0m\u001b[0;34m)\u001b[0m\u001b[0;34m\u001b[0m\u001b[0;34m\u001b[0m\u001b[0m\n\u001b[0m",
      "\u001b[0;31mNameError\u001b[0m: name 'sim' is not defined"
     ]
    }
   ],
   "source": [
    "## Plot 1 \n",
    "output_variables = [\"Terminal voltage [V]\"]\n",
    "sim.plot(output_variables=output_variables)"
   ]
  },
  {
   "cell_type": "code",
   "execution_count": 6,
   "id": "988dc2c0-8328-455c-b40c-c1fade2faf30",
   "metadata": {},
   "outputs": [
    {
     "ename": "NameError",
     "evalue": "name 'pybamm' is not defined",
     "output_type": "error",
     "traceback": [
      "\u001b[0;31m---------------------------------------------------------------------------\u001b[0m",
      "\u001b[0;31mNameError\u001b[0m                                 Traceback (most recent call last)",
      "\u001b[0;32m/var/folders/fb/5nf2l6vx4tj8839ndlppjshw0000gn/T/ipykernel_91268/4283462736.py\u001b[0m in \u001b[0;36m<module>\u001b[0;34m\u001b[0m\n\u001b[0;32m----> 1\u001b[0;31m \u001b[0mp1\u001b[0m \u001b[0;34m=\u001b[0m \u001b[0mpybamm\u001b[0m\u001b[0;34m.\u001b[0m\u001b[0mplot_voltage_components\u001b[0m\u001b[0;34m(\u001b[0m\u001b[0msim\u001b[0m\u001b[0;34m.\u001b[0m\u001b[0msolution\u001b[0m\u001b[0;34m)\u001b[0m\u001b[0;34m\u001b[0m\u001b[0;34m\u001b[0m\u001b[0m\n\u001b[0m",
      "\u001b[0;31mNameError\u001b[0m: name 'pybamm' is not defined"
     ]
    }
   ],
   "source": [
    "p1 = pybamm.plot_voltage_components(sim.solution)"
   ]
  },
  {
   "cell_type": "code",
   "execution_count": 7,
   "id": "dd528b22-6b50-40f6-978b-e01597092e0c",
   "metadata": {},
   "outputs": [
    {
     "ename": "NameError",
     "evalue": "name 'pybamm' is not defined",
     "output_type": "error",
     "traceback": [
      "\u001b[0;31m---------------------------------------------------------------------------\u001b[0m",
      "\u001b[0;31mNameError\u001b[0m                                 Traceback (most recent call last)",
      "\u001b[0;32m/var/folders/fb/5nf2l6vx4tj8839ndlppjshw0000gn/T/ipykernel_91268/2658181371.py\u001b[0m in \u001b[0;36m<module>\u001b[0;34m\u001b[0m\n\u001b[0;32m----> 1\u001b[0;31m \u001b[0mparameter_values\u001b[0m \u001b[0;34m=\u001b[0m \u001b[0mpybamm\u001b[0m\u001b[0;34m.\u001b[0m\u001b[0mParameterValues\u001b[0m\u001b[0;34m(\u001b[0m\u001b[0mchemistry\u001b[0m\u001b[0;34m=\u001b[0m \u001b[0mpybamm\u001b[0m\u001b[0;34m.\u001b[0m\u001b[0mparameter_sets\u001b[0m\u001b[0;34m.\u001b[0m\u001b[0mChen2020\u001b[0m\u001b[0;34m)\u001b[0m\u001b[0;34m\u001b[0m\u001b[0;34m\u001b[0m\u001b[0m\n\u001b[0m\u001b[1;32m      2\u001b[0m \u001b[0mparameter_values\u001b[0m\u001b[0;34m\u001b[0m\u001b[0;34m\u001b[0m\u001b[0m\n",
      "\u001b[0;31mNameError\u001b[0m: name 'pybamm' is not defined"
     ]
    }
   ],
   "source": [
    "parameter_values = pybamm.ParameterValues(chemistry= pybamm.parameter_sets.Chen2020)\n",
    "parameter_values"
   ]
  },
  {
   "cell_type": "code",
   "execution_count": 8,
   "id": "2d47f9d5-b994-4a07-886a-58224c7decc5",
   "metadata": {},
   "outputs": [
    {
     "ename": "NameError",
     "evalue": "name 'parameter_values' is not defined",
     "output_type": "error",
     "traceback": [
      "\u001b[0;31m---------------------------------------------------------------------------\u001b[0m",
      "\u001b[0;31mNameError\u001b[0m                                 Traceback (most recent call last)",
      "\u001b[0;32m/var/folders/fb/5nf2l6vx4tj8839ndlppjshw0000gn/T/ipykernel_91268/454142898.py\u001b[0m in \u001b[0;36m<module>\u001b[0;34m\u001b[0m\n\u001b[0;32m----> 1\u001b[0;31m \u001b[0mparameter_values\u001b[0m\u001b[0;34m.\u001b[0m\u001b[0msearch\u001b[0m\u001b[0;34m(\u001b[0m\u001b[0;34m\"NOMINAL\"\u001b[0m\u001b[0;34m)\u001b[0m\u001b[0;34m\u001b[0m\u001b[0;34m\u001b[0m\u001b[0m\n\u001b[0m",
      "\u001b[0;31mNameError\u001b[0m: name 'parameter_values' is not defined"
     ]
    }
   ],
   "source": [
    "parameter_values.search(\"NOMINAL\")"
   ]
  },
  {
   "cell_type": "code",
   "execution_count": 9,
   "id": "203c52a1-4538-4fc0-a68f-246e3f0984c3",
   "metadata": {},
   "outputs": [
    {
     "ename": "NameError",
     "evalue": "name 'parameter_values' is not defined",
     "output_type": "error",
     "traceback": [
      "\u001b[0;31m---------------------------------------------------------------------------\u001b[0m",
      "\u001b[0;31mNameError\u001b[0m                                 Traceback (most recent call last)",
      "\u001b[0;32m/var/folders/fb/5nf2l6vx4tj8839ndlppjshw0000gn/T/ipykernel_91268/2227734389.py\u001b[0m in \u001b[0;36m<module>\u001b[0;34m\u001b[0m\n\u001b[0;32m----> 1\u001b[0;31m \u001b[0mparameter_values\u001b[0m\u001b[0;34m[\u001b[0m\u001b[0;34m'Nominal cell capacity [A.h]'\u001b[0m\u001b[0;34m]\u001b[0m\u001b[0;34m=\u001b[0m \u001b[0;36m1.1\u001b[0m\u001b[0;34m\u001b[0m\u001b[0;34m\u001b[0m\u001b[0m\n\u001b[0m",
      "\u001b[0;31mNameError\u001b[0m: name 'parameter_values' is not defined"
     ]
    }
   ],
   "source": [
    "parameter_values['Nominal cell capacity [A.h]']= 1.1"
   ]
  },
  {
   "cell_type": "code",
   "execution_count": 10,
   "id": "6f4acbde-4c84-407c-a2e9-7cf6120d43ff",
   "metadata": {},
   "outputs": [
    {
     "ename": "NameError",
     "evalue": "name 'parameter_values' is not defined",
     "output_type": "error",
     "traceback": [
      "\u001b[0;31m---------------------------------------------------------------------------\u001b[0m",
      "\u001b[0;31mNameError\u001b[0m                                 Traceback (most recent call last)",
      "\u001b[0;32m/var/folders/fb/5nf2l6vx4tj8839ndlppjshw0000gn/T/ipykernel_91268/3981968527.py\u001b[0m in \u001b[0;36m<module>\u001b[0;34m\u001b[0m\n\u001b[0;32m----> 1\u001b[0;31m \u001b[0mparameter_values\u001b[0m\u001b[0;34m[\u001b[0m\u001b[0;34m'Lower voltage cut-off [V]'\u001b[0m\u001b[0;34m]\u001b[0m\u001b[0;34m=\u001b[0m \u001b[0;36m2.0\u001b[0m\u001b[0;34m\u001b[0m\u001b[0;34m\u001b[0m\u001b[0m\n\u001b[0m\u001b[1;32m      2\u001b[0m \u001b[0mparameter_values\u001b[0m\u001b[0;34m[\u001b[0m\u001b[0;34m'Upper voltage cut-off [V]'\u001b[0m\u001b[0;34m]\u001b[0m\u001b[0;34m=\u001b[0m \u001b[0;36m3.6\u001b[0m\u001b[0;34m\u001b[0m\u001b[0;34m\u001b[0m\u001b[0m\n",
      "\u001b[0;31mNameError\u001b[0m: name 'parameter_values' is not defined"
     ]
    }
   ],
   "source": [
    "parameter_values['Lower voltage cut-off [V]']= 2.0\n",
    "parameter_values['Upper voltage cut-off [V]']= 3.6"
   ]
  },
  {
   "cell_type": "code",
   "execution_count": 11,
   "id": "85546345-10b9-4722-8e61-b9d331b89c03",
   "metadata": {},
   "outputs": [
    {
     "ename": "NameError",
     "evalue": "name 'parameter_values' is not defined",
     "output_type": "error",
     "traceback": [
      "\u001b[0;31m---------------------------------------------------------------------------\u001b[0m",
      "\u001b[0;31mNameError\u001b[0m                                 Traceback (most recent call last)",
      "\u001b[0;32m/var/folders/fb/5nf2l6vx4tj8839ndlppjshw0000gn/T/ipykernel_91268/2172288474.py\u001b[0m in \u001b[0;36m<module>\u001b[0;34m\u001b[0m\n\u001b[0;32m----> 1\u001b[0;31m \u001b[0mprint\u001b[0m\u001b[0;34m(\u001b[0m\u001b[0mparameter_values\u001b[0m\u001b[0;34m[\u001b[0m\u001b[0;34m'Nominal cell capacity [A.h]'\u001b[0m\u001b[0;34m]\u001b[0m\u001b[0;34m)\u001b[0m\u001b[0;34m\u001b[0m\u001b[0;34m\u001b[0m\u001b[0m\n\u001b[0m\u001b[1;32m      2\u001b[0m \u001b[0mprint\u001b[0m\u001b[0;34m(\u001b[0m\u001b[0mparameter_values\u001b[0m\u001b[0;34m[\u001b[0m\u001b[0;34m'Lower voltage cut-off [V]'\u001b[0m\u001b[0;34m]\u001b[0m\u001b[0;34m)\u001b[0m\u001b[0;34m\u001b[0m\u001b[0;34m\u001b[0m\u001b[0m\n\u001b[1;32m      3\u001b[0m \u001b[0mparameter_values\u001b[0m\u001b[0;34m[\u001b[0m\u001b[0;34m'Typical current [A]'\u001b[0m\u001b[0;34m]\u001b[0m\u001b[0;34m\u001b[0m\u001b[0;34m\u001b[0m\u001b[0m\n",
      "\u001b[0;31mNameError\u001b[0m: name 'parameter_values' is not defined"
     ]
    }
   ],
   "source": [
    "print(parameter_values['Nominal cell capacity [A.h]'])\n",
    "print(parameter_values['Lower voltage cut-off [V]'])\n",
    "parameter_values['Typical current [A]']"
   ]
  },
  {
   "cell_type": "code",
   "execution_count": 12,
   "id": "ca30f5b6-b975-4021-b562-6a183f1d7332",
   "metadata": {},
   "outputs": [
    {
     "ename": "NameError",
     "evalue": "name 'pybamm' is not defined",
     "output_type": "error",
     "traceback": [
      "\u001b[0;31m---------------------------------------------------------------------------\u001b[0m",
      "\u001b[0;31mNameError\u001b[0m                                 Traceback (most recent call last)",
      "\u001b[0;32m/var/folders/fb/5nf2l6vx4tj8839ndlppjshw0000gn/T/ipykernel_91268/902712928.py\u001b[0m in \u001b[0;36m<module>\u001b[0;34m\u001b[0m\n\u001b[0;32m----> 1\u001b[0;31m \u001b[0mmodel\u001b[0m \u001b[0;34m=\u001b[0m \u001b[0mpybamm\u001b[0m\u001b[0;34m.\u001b[0m\u001b[0mlithium_ion\u001b[0m\u001b[0;34m.\u001b[0m\u001b[0mSPM\u001b[0m\u001b[0;34m(\u001b[0m\u001b[0;34m)\u001b[0m\u001b[0;34m\u001b[0m\u001b[0;34m\u001b[0m\u001b[0m\n\u001b[0m\u001b[1;32m      2\u001b[0m \u001b[0msim\u001b[0m \u001b[0;34m=\u001b[0m \u001b[0mpybamm\u001b[0m\u001b[0;34m.\u001b[0m\u001b[0mSimulation\u001b[0m\u001b[0;34m(\u001b[0m\u001b[0mmodel\u001b[0m\u001b[0;34m,\u001b[0m\u001b[0mparameter_values\u001b[0m \u001b[0;34m=\u001b[0m \u001b[0mparameter_values\u001b[0m\u001b[0;34m)\u001b[0m\u001b[0;34m\u001b[0m\u001b[0;34m\u001b[0m\u001b[0m\n\u001b[1;32m      3\u001b[0m \u001b[0msim\u001b[0m\u001b[0;34m.\u001b[0m\u001b[0msolve\u001b[0m\u001b[0;34m(\u001b[0m\u001b[0;34m[\u001b[0m\u001b[0;36m0\u001b[0m\u001b[0;34m,\u001b[0m\u001b[0;36m746\u001b[0m\u001b[0;34m]\u001b[0m\u001b[0;34m)\u001b[0m\u001b[0;34m\u001b[0m\u001b[0;34m\u001b[0m\u001b[0m\n\u001b[1;32m      4\u001b[0m \u001b[0msim\u001b[0m\u001b[0;34m.\u001b[0m\u001b[0mplot\u001b[0m\u001b[0;34m(\u001b[0m\u001b[0;34m)\u001b[0m\u001b[0;34m\u001b[0m\u001b[0;34m\u001b[0m\u001b[0m\n",
      "\u001b[0;31mNameError\u001b[0m: name 'pybamm' is not defined"
     ]
    }
   ],
   "source": [
    "model = pybamm.lithium_ion.SPM()\n",
    "sim = pybamm.Simulation(model,parameter_values = parameter_values)\n",
    "sim.solve([0,746])\n",
    "sim.plot()"
   ]
  },
  {
   "cell_type": "code",
   "execution_count": 13,
   "id": "3b00657e-a879-48ab-bdca-b27dac040dc8",
   "metadata": {},
   "outputs": [
    {
     "ename": "NameError",
     "evalue": "name 'sim' is not defined",
     "output_type": "error",
     "traceback": [
      "\u001b[0;31m---------------------------------------------------------------------------\u001b[0m",
      "\u001b[0;31mNameError\u001b[0m                                 Traceback (most recent call last)",
      "\u001b[0;32m/var/folders/fb/5nf2l6vx4tj8839ndlppjshw0000gn/T/ipykernel_91268/3162601843.py\u001b[0m in \u001b[0;36m<module>\u001b[0;34m\u001b[0m\n\u001b[1;32m      1\u001b[0m \u001b[0moutput_variables\u001b[0m \u001b[0;34m=\u001b[0m \u001b[0;34m[\u001b[0m\u001b[0;34m\"Terminal voltage [V]\"\u001b[0m\u001b[0;34m]\u001b[0m\u001b[0;34m\u001b[0m\u001b[0;34m\u001b[0m\u001b[0m\n\u001b[0;32m----> 2\u001b[0;31m \u001b[0msim\u001b[0m\u001b[0;34m.\u001b[0m\u001b[0mplot\u001b[0m\u001b[0;34m(\u001b[0m\u001b[0moutput_variables\u001b[0m\u001b[0;34m=\u001b[0m\u001b[0moutput_variables\u001b[0m\u001b[0;34m)\u001b[0m\u001b[0;34m\u001b[0m\u001b[0;34m\u001b[0m\u001b[0m\n\u001b[0m",
      "\u001b[0;31mNameError\u001b[0m: name 'sim' is not defined"
     ]
    }
   ],
   "source": [
    "output_variables = [\"Terminal voltage [V]\"]\n",
    "sim.plot(output_variables=output_variables)"
   ]
  },
  {
   "cell_type": "code",
   "execution_count": 14,
   "id": "2769e5e8-48ab-4e3f-a35f-4341a5a6a314",
   "metadata": {},
   "outputs": [
    {
     "ename": "NameError",
     "evalue": "name 'pybamm' is not defined",
     "output_type": "error",
     "traceback": [
      "\u001b[0;31m---------------------------------------------------------------------------\u001b[0m",
      "\u001b[0;31mNameError\u001b[0m                                 Traceback (most recent call last)",
      "\u001b[0;32m/var/folders/fb/5nf2l6vx4tj8839ndlppjshw0000gn/T/ipykernel_91268/3313781356.py\u001b[0m in \u001b[0;36m<module>\u001b[0;34m\u001b[0m\n\u001b[0;32m----> 1\u001b[0;31m \u001b[0mp2\u001b[0m \u001b[0;34m=\u001b[0m \u001b[0mpybamm\u001b[0m\u001b[0;34m.\u001b[0m\u001b[0mplot_voltage_components\u001b[0m\u001b[0;34m(\u001b[0m\u001b[0msim\u001b[0m\u001b[0;34m.\u001b[0m\u001b[0msolution\u001b[0m\u001b[0;34m)\u001b[0m\u001b[0;34m\u001b[0m\u001b[0;34m\u001b[0m\u001b[0m\n\u001b[0m",
      "\u001b[0;31mNameError\u001b[0m: name 'pybamm' is not defined"
     ]
    }
   ],
   "source": [
    "p2 = pybamm.plot_voltage_components(sim.solution)"
   ]
  },
  {
   "cell_type": "code",
   "execution_count": 15,
   "id": "296eb024-cb83-483f-8d42-2b82c3b1184c",
   "metadata": {},
   "outputs": [
    {
     "ename": "NameError",
     "evalue": "name 'parameter_values' is not defined",
     "output_type": "error",
     "traceback": [
      "\u001b[0;31m---------------------------------------------------------------------------\u001b[0m",
      "\u001b[0;31mNameError\u001b[0m                                 Traceback (most recent call last)",
      "\u001b[0;32m/var/folders/fb/5nf2l6vx4tj8839ndlppjshw0000gn/T/ipykernel_91268/511580269.py\u001b[0m in \u001b[0;36m<module>\u001b[0;34m\u001b[0m\n\u001b[0;32m----> 1\u001b[0;31m \u001b[0mparameter_values\u001b[0m\u001b[0;34m[\u001b[0m\u001b[0;34m\"Initial concentration in negative electrode [mol.m-3]\"\u001b[0m\u001b[0;34m]\u001b[0m \u001b[0;34m=\u001b[0m \u001b[0;36m0.8\u001b[0m\u001b[0;34m*\u001b[0m\u001b[0;36m29866.0\u001b[0m\u001b[0;34m\u001b[0m\u001b[0;34m\u001b[0m\u001b[0m\n\u001b[0m",
      "\u001b[0;31mNameError\u001b[0m: name 'parameter_values' is not defined"
     ]
    }
   ],
   "source": [
    "parameter_values[\"Initial concentration in negative electrode [mol.m-3]\"] = 0.8*29866.0"
   ]
  },
  {
   "cell_type": "code",
   "execution_count": 16,
   "id": "3f42008c-8667-4c2b-b77f-5e5161c74f73",
   "metadata": {},
   "outputs": [
    {
     "ename": "NameError",
     "evalue": "name 'pybamm' is not defined",
     "output_type": "error",
     "traceback": [
      "\u001b[0;31m---------------------------------------------------------------------------\u001b[0m",
      "\u001b[0;31mNameError\u001b[0m                                 Traceback (most recent call last)",
      "\u001b[0;32m/var/folders/fb/5nf2l6vx4tj8839ndlppjshw0000gn/T/ipykernel_91268/615747705.py\u001b[0m in \u001b[0;36m<module>\u001b[0;34m\u001b[0m\n\u001b[0;32m----> 1\u001b[0;31m \u001b[0mmodel\u001b[0m \u001b[0;34m=\u001b[0m \u001b[0mpybamm\u001b[0m\u001b[0;34m.\u001b[0m\u001b[0mlithium_ion\u001b[0m\u001b[0;34m.\u001b[0m\u001b[0mSPM\u001b[0m\u001b[0;34m(\u001b[0m\u001b[0;34m)\u001b[0m\u001b[0;34m\u001b[0m\u001b[0;34m\u001b[0m\u001b[0m\n\u001b[0m\u001b[1;32m      2\u001b[0m \u001b[0msim\u001b[0m \u001b[0;34m=\u001b[0m \u001b[0mpybamm\u001b[0m\u001b[0;34m.\u001b[0m\u001b[0mSimulation\u001b[0m\u001b[0;34m(\u001b[0m\u001b[0mmodel\u001b[0m\u001b[0;34m,\u001b[0m\u001b[0mparameter_values\u001b[0m \u001b[0;34m=\u001b[0m \u001b[0mparameter_values\u001b[0m\u001b[0;34m)\u001b[0m\u001b[0;34m\u001b[0m\u001b[0;34m\u001b[0m\u001b[0m\n\u001b[1;32m      3\u001b[0m \u001b[0msim\u001b[0m\u001b[0;34m.\u001b[0m\u001b[0msolve\u001b[0m\u001b[0;34m(\u001b[0m\u001b[0;34m[\u001b[0m\u001b[0;36m0\u001b[0m\u001b[0;34m,\u001b[0m\u001b[0;36m3600\u001b[0m\u001b[0;34m]\u001b[0m\u001b[0;34m)\u001b[0m\u001b[0;34m\u001b[0m\u001b[0;34m\u001b[0m\u001b[0m\n\u001b[1;32m      4\u001b[0m \u001b[0msim\u001b[0m\u001b[0;34m.\u001b[0m\u001b[0mplot\u001b[0m\u001b[0;34m(\u001b[0m\u001b[0;34m)\u001b[0m\u001b[0;34m\u001b[0m\u001b[0;34m\u001b[0m\u001b[0m\n",
      "\u001b[0;31mNameError\u001b[0m: name 'pybamm' is not defined"
     ]
    }
   ],
   "source": [
    "model = pybamm.lithium_ion.SPM()\n",
    "sim = pybamm.Simulation(model,parameter_values = parameter_values)\n",
    "sim.solve([0,3600])\n",
    "sim.plot()"
   ]
  },
  {
   "cell_type": "code",
   "execution_count": 17,
   "id": "edf639a0-ee7a-4b3a-871f-9bddff3472f1",
   "metadata": {},
   "outputs": [
    {
     "ename": "NameError",
     "evalue": "name 'sim' is not defined",
     "output_type": "error",
     "traceback": [
      "\u001b[0;31m---------------------------------------------------------------------------\u001b[0m",
      "\u001b[0;31mNameError\u001b[0m                                 Traceback (most recent call last)",
      "\u001b[0;32m/var/folders/fb/5nf2l6vx4tj8839ndlppjshw0000gn/T/ipykernel_91268/3162601843.py\u001b[0m in \u001b[0;36m<module>\u001b[0;34m\u001b[0m\n\u001b[1;32m      1\u001b[0m \u001b[0moutput_variables\u001b[0m \u001b[0;34m=\u001b[0m \u001b[0;34m[\u001b[0m\u001b[0;34m\"Terminal voltage [V]\"\u001b[0m\u001b[0;34m]\u001b[0m\u001b[0;34m\u001b[0m\u001b[0;34m\u001b[0m\u001b[0m\n\u001b[0;32m----> 2\u001b[0;31m \u001b[0msim\u001b[0m\u001b[0;34m.\u001b[0m\u001b[0mplot\u001b[0m\u001b[0;34m(\u001b[0m\u001b[0moutput_variables\u001b[0m\u001b[0;34m=\u001b[0m\u001b[0moutput_variables\u001b[0m\u001b[0;34m)\u001b[0m\u001b[0;34m\u001b[0m\u001b[0;34m\u001b[0m\u001b[0m\n\u001b[0m",
      "\u001b[0;31mNameError\u001b[0m: name 'sim' is not defined"
     ]
    }
   ],
   "source": [
    "output_variables = [\"Terminal voltage [V]\"]\n",
    "sim.plot(output_variables=output_variables)"
   ]
  },
  {
   "cell_type": "code",
   "execution_count": null,
   "id": "cc21caad",
   "metadata": {},
   "outputs": [],
   "source": []
  },
  {
   "cell_type": "code",
   "execution_count": null,
   "id": "d3ef001e",
   "metadata": {},
   "outputs": [],
   "source": []
  },
  {
   "cell_type": "code",
   "execution_count": null,
   "id": "caf0a86d",
   "metadata": {},
   "outputs": [],
   "source": []
  },
  {
   "cell_type": "code",
   "execution_count": null,
   "id": "503a964d",
   "metadata": {},
   "outputs": [],
   "source": []
  }
 ],
 "metadata": {
  "kernelspec": {
   "display_name": "Python 3 (ipykernel)",
   "language": "python",
   "name": "python3"
  },
  "language_info": {
   "codemirror_mode": {
    "name": "ipython",
    "version": 3
   },
   "file_extension": ".py",
   "mimetype": "text/x-python",
   "name": "python",
   "nbconvert_exporter": "python",
   "pygments_lexer": "ipython3",
   "version": "3.9.7"
  }
 },
 "nbformat": 4,
 "nbformat_minor": 5
}
